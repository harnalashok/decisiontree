{
 "cells": [
  {
   "cell_type": "code",
   "execution_count": 1,
   "metadata": {},
   "outputs": [],
   "source": [
    "#Last amended: 30th June, 2020\n",
    "#My folder:    /home/ashok/Documents/5.decisiontree\n",
    "#Data folder:  /home/ashok/datasets/german_credit\n",
    "#Data source: UCI repository\n",
    "# Ref: https://archive.ics.uci.edu/ml/datasets/statlog+(german+credit+data)\n",
    "\n",
    "# Objectives:\n",
    "#    i)    Read and explore data\n",
    "#    ii)   Process data using sklearn\n",
    "#    iii)  Learn to build decision tree model\n",
    "#    iv)   Vary decision tree parameters and check\n",
    "#          how accuracy is affected\n",
    "#    v)    Feature importance"
   ]
  },
  {
   "cell_type": "code",
   "execution_count": 2,
   "metadata": {},
   "outputs": [],
   "source": [
    "## PERFORM FIRST\n",
    "#  https://github.com/harnalashok/general/blob/master/Pipeline%20%26%20ColumnTransformer/data%20pipelining%20template.ipynb####\n",
    "# 1.0 Reset memory\n",
    "%reset -f\n",
    "# 1.1 Call libraries\n",
    "import numpy as np\n",
    "import pandas as pd\n",
    "# 1.2 For OS operatios\n",
    "import os\n",
    "# 1.3 For plotting\n",
    "import matplotlib.pyplot as plt\n",
    "\n",
    "# 1.4 Class for applying multiple data transformation jobs\n",
    "from sklearn.compose import ColumnTransformer\n",
    "from sklearn.pipeline import Pipeline\n",
    "\n",
    "# 1.5 Scale numeric data\n",
    "from sklearn.preprocessing import StandardScaler as ss\n",
    "from sklearn.preprocessing import Normalizer as nz\n",
    "\n",
    "# 1.6 One hot encode data--Convert to dummy\n",
    "from sklearn.preprocessing import OneHotEncoder as ohe\n",
    "\n",
    "# 1.7 for data splitting\n",
    "from sklearn.model_selection import train_test_split\n",
    "\n",
    "# 1.8 Modeler\n",
    "# Ref: https://scikit-learn.org/stable/modules/generated/sklearn.tree.DecisionTreeClassifier.html\n",
    "# User guide: https://scikit-learn.org/stable/modules/tree.html\n",
    "from sklearn.tree import DecisionTreeClassifier as dt\n",
    "\n",
    "###############"
   ]
  },
  {
   "cell_type": "code",
   "execution_count": 3,
   "metadata": {},
   "outputs": [],
   "source": [
    "# 2.0 Display outputs from all commands from a cell not just the last\n",
    "from IPython.core.interactiveshell import InteractiveShell\n",
    "InteractiveShell.ast_node_interactivity = \"all\""
   ]
  },
  {
   "cell_type": "code",
   "execution_count": 4,
   "metadata": {},
   "outputs": [
    {
     "data": {
      "text/plain": [
       "['.ipynb_checkpoints',\n",
       " '1.iris_graphviz.py',\n",
       " '1.toy.py',\n",
       " '2.german_credit_verysimple.py',\n",
       " '3.german_credit_simple.py',\n",
       " '4..german_credit.py',\n",
       " '5.german_credit_randomForest ver1.py',\n",
       " 'abc',\n",
       " 'class_exercise_data',\n",
       " 'german_credit.csv.zip',\n",
       " 'iris',\n",
       " 'iris.pdf',\n",
       " 'iris_wheader.csv',\n",
       " 'Untitled.ipynb']"
      ]
     },
     "execution_count": 4,
     "metadata": {},
     "output_type": "execute_result"
    }
   ],
   "source": [
    "# 2.1 Kill warnings\n",
    "import warnings\n",
    "warnings.filterwarnings(\"ignore\")\n",
    "\n",
    "\n",
    "# 2.2 Change your working folder\n",
    "#     and check files therein\n",
    "path = \"C:\\\\Users\\\\ashok\\\\Desktop\\\\cbi\\\\5.decisiontree\"\n",
    "#path = \"/home/ashok/datasets/german_credit\"\n",
    "os.chdir(path)\n",
    "os.listdir()\n",
    "\n",
    "# 2.3 Change ipython options to display all data columns\n",
    "pd.options.display.max_columns = 300\n",
    "np.set_printoptions(\n",
    "                    threshold=np.inf,\n",
    "                    precision=3\n",
    "                    )\n"
   ]
  },
  {
   "cell_type": "code",
   "execution_count": 5,
   "metadata": {},
   "outputs": [
    {
     "data": {
      "text/plain": [
       "(1000, 20)"
      ]
     },
     "execution_count": 5,
     "metadata": {},
     "output_type": "execute_result"
    },
    {
     "data": {
      "text/plain": [
       "Index(['creditability', 'account_balance', 'previous_credit_payment_status',\n",
       "       'credit_duration_month', 'purpose_of_earlier_credit', 'credit_amount',\n",
       "       'installment_percent', 'current_emploment_length',\n",
       "       'sex_and_marital_status', 'guarantors', 'duration_at_current_address',\n",
       "       'most_valuable_available_asset', 'age', 'concurrent_credits',\n",
       "       'apartmenttype', 'howmanycreditsat_this_bank', 'occupation',\n",
       "       'dependents', 'telephone', 'foreign_worker'],\n",
       "      dtype='object')"
      ]
     },
     "execution_count": 5,
     "metadata": {},
     "output_type": "execute_result"
    },
    {
     "data": {
      "text/plain": [
       "creditability                     int64\n",
       "account_balance                   int64\n",
       "previous_credit_payment_status    int64\n",
       "credit_duration_month             int64\n",
       "purpose_of_earlier_credit         int64\n",
       "credit_amount                     int64\n",
       "installment_percent               int64\n",
       "current_emploment_length          int64\n",
       "sex_and_marital_status            int64\n",
       "guarantors                        int64\n",
       "duration_at_current_address       int64\n",
       "most_valuable_available_asset     int64\n",
       "age                               int64\n",
       "concurrent_credits                int64\n",
       "apartmenttype                     int64\n",
       "howmanycreditsat_this_bank        int64\n",
       "occupation                        int64\n",
       "dependents                        int64\n",
       "telephone                         int64\n",
       "foreign_worker                    int64\n",
       "dtype: object"
      ]
     },
     "execution_count": 5,
     "metadata": {},
     "output_type": "execute_result"
    },
    {
     "data": {
      "text/plain": [
       "int64    20\n",
       "dtype: int64"
      ]
     },
     "execution_count": 5,
     "metadata": {},
     "output_type": "execute_result"
    },
    {
     "data": {
      "text/html": [
       "<div>\n",
       "<style scoped>\n",
       "    .dataframe tbody tr th:only-of-type {\n",
       "        vertical-align: middle;\n",
       "    }\n",
       "\n",
       "    .dataframe tbody tr th {\n",
       "        vertical-align: top;\n",
       "    }\n",
       "\n",
       "    .dataframe thead th {\n",
       "        text-align: right;\n",
       "    }\n",
       "</style>\n",
       "<table border=\"1\" class=\"dataframe\">\n",
       "  <thead>\n",
       "    <tr style=\"text-align: right;\">\n",
       "      <th></th>\n",
       "      <th>creditability</th>\n",
       "      <th>account_balance</th>\n",
       "      <th>previous_credit_payment_status</th>\n",
       "      <th>credit_duration_month</th>\n",
       "      <th>purpose_of_earlier_credit</th>\n",
       "      <th>credit_amount</th>\n",
       "      <th>installment_percent</th>\n",
       "      <th>current_emploment_length</th>\n",
       "      <th>sex_and_marital_status</th>\n",
       "      <th>guarantors</th>\n",
       "      <th>duration_at_current_address</th>\n",
       "      <th>most_valuable_available_asset</th>\n",
       "      <th>age</th>\n",
       "      <th>concurrent_credits</th>\n",
       "      <th>apartmenttype</th>\n",
       "      <th>howmanycreditsat_this_bank</th>\n",
       "      <th>occupation</th>\n",
       "      <th>dependents</th>\n",
       "      <th>telephone</th>\n",
       "      <th>foreign_worker</th>\n",
       "    </tr>\n",
       "  </thead>\n",
       "  <tbody>\n",
       "    <tr>\n",
       "      <th>0</th>\n",
       "      <td>1</td>\n",
       "      <td>1</td>\n",
       "      <td>4</td>\n",
       "      <td>18</td>\n",
       "      <td>2</td>\n",
       "      <td>1049</td>\n",
       "      <td>4</td>\n",
       "      <td>2</td>\n",
       "      <td>2</td>\n",
       "      <td>1</td>\n",
       "      <td>4</td>\n",
       "      <td>2</td>\n",
       "      <td>21</td>\n",
       "      <td>3</td>\n",
       "      <td>1</td>\n",
       "      <td>1</td>\n",
       "      <td>3</td>\n",
       "      <td>1</td>\n",
       "      <td>1</td>\n",
       "      <td>1</td>\n",
       "    </tr>\n",
       "    <tr>\n",
       "      <th>1</th>\n",
       "      <td>1</td>\n",
       "      <td>1</td>\n",
       "      <td>4</td>\n",
       "      <td>9</td>\n",
       "      <td>0</td>\n",
       "      <td>2799</td>\n",
       "      <td>2</td>\n",
       "      <td>3</td>\n",
       "      <td>3</td>\n",
       "      <td>1</td>\n",
       "      <td>2</td>\n",
       "      <td>1</td>\n",
       "      <td>36</td>\n",
       "      <td>3</td>\n",
       "      <td>1</td>\n",
       "      <td>2</td>\n",
       "      <td>3</td>\n",
       "      <td>2</td>\n",
       "      <td>1</td>\n",
       "      <td>1</td>\n",
       "    </tr>\n",
       "    <tr>\n",
       "      <th>2</th>\n",
       "      <td>1</td>\n",
       "      <td>2</td>\n",
       "      <td>2</td>\n",
       "      <td>12</td>\n",
       "      <td>9</td>\n",
       "      <td>841</td>\n",
       "      <td>2</td>\n",
       "      <td>4</td>\n",
       "      <td>2</td>\n",
       "      <td>1</td>\n",
       "      <td>4</td>\n",
       "      <td>1</td>\n",
       "      <td>23</td>\n",
       "      <td>3</td>\n",
       "      <td>1</td>\n",
       "      <td>1</td>\n",
       "      <td>2</td>\n",
       "      <td>1</td>\n",
       "      <td>1</td>\n",
       "      <td>1</td>\n",
       "    </tr>\n",
       "    <tr>\n",
       "      <th>3</th>\n",
       "      <td>1</td>\n",
       "      <td>1</td>\n",
       "      <td>4</td>\n",
       "      <td>12</td>\n",
       "      <td>0</td>\n",
       "      <td>2122</td>\n",
       "      <td>3</td>\n",
       "      <td>3</td>\n",
       "      <td>3</td>\n",
       "      <td>1</td>\n",
       "      <td>2</td>\n",
       "      <td>1</td>\n",
       "      <td>39</td>\n",
       "      <td>3</td>\n",
       "      <td>1</td>\n",
       "      <td>2</td>\n",
       "      <td>2</td>\n",
       "      <td>2</td>\n",
       "      <td>1</td>\n",
       "      <td>2</td>\n",
       "    </tr>\n",
       "    <tr>\n",
       "      <th>4</th>\n",
       "      <td>1</td>\n",
       "      <td>1</td>\n",
       "      <td>4</td>\n",
       "      <td>12</td>\n",
       "      <td>0</td>\n",
       "      <td>2171</td>\n",
       "      <td>4</td>\n",
       "      <td>3</td>\n",
       "      <td>3</td>\n",
       "      <td>1</td>\n",
       "      <td>4</td>\n",
       "      <td>2</td>\n",
       "      <td>38</td>\n",
       "      <td>1</td>\n",
       "      <td>2</td>\n",
       "      <td>2</td>\n",
       "      <td>2</td>\n",
       "      <td>1</td>\n",
       "      <td>1</td>\n",
       "      <td>2</td>\n",
       "    </tr>\n",
       "  </tbody>\n",
       "</table>\n",
       "</div>"
      ],
      "text/plain": [
       "   creditability  account_balance  previous_credit_payment_status  \\\n",
       "0              1                1                               4   \n",
       "1              1                1                               4   \n",
       "2              1                2                               2   \n",
       "3              1                1                               4   \n",
       "4              1                1                               4   \n",
       "\n",
       "   credit_duration_month  purpose_of_earlier_credit  credit_amount  \\\n",
       "0                     18                          2           1049   \n",
       "1                      9                          0           2799   \n",
       "2                     12                          9            841   \n",
       "3                     12                          0           2122   \n",
       "4                     12                          0           2171   \n",
       "\n",
       "   installment_percent  current_emploment_length  sex_and_marital_status  \\\n",
       "0                    4                         2                       2   \n",
       "1                    2                         3                       3   \n",
       "2                    2                         4                       2   \n",
       "3                    3                         3                       3   \n",
       "4                    4                         3                       3   \n",
       "\n",
       "   guarantors  duration_at_current_address  most_valuable_available_asset  \\\n",
       "0           1                            4                              2   \n",
       "1           1                            2                              1   \n",
       "2           1                            4                              1   \n",
       "3           1                            2                              1   \n",
       "4           1                            4                              2   \n",
       "\n",
       "   age  concurrent_credits  apartmenttype  howmanycreditsat_this_bank  \\\n",
       "0   21                   3              1                           1   \n",
       "1   36                   3              1                           2   \n",
       "2   23                   3              1                           1   \n",
       "3   39                   3              1                           2   \n",
       "4   38                   1              2                           2   \n",
       "\n",
       "   occupation  dependents  telephone  foreign_worker  \n",
       "0           3           1          1               1  \n",
       "1           3           2          1               1  \n",
       "2           2           1          1               1  \n",
       "3           2           2          1               2  \n",
       "4           2           1          1               2  "
      ]
     },
     "execution_count": 5,
     "metadata": {},
     "output_type": "execute_result"
    },
    {
     "data": {
      "text/html": [
       "<div>\n",
       "<style scoped>\n",
       "    .dataframe tbody tr th:only-of-type {\n",
       "        vertical-align: middle;\n",
       "    }\n",
       "\n",
       "    .dataframe tbody tr th {\n",
       "        vertical-align: top;\n",
       "    }\n",
       "\n",
       "    .dataframe thead th {\n",
       "        text-align: right;\n",
       "    }\n",
       "</style>\n",
       "<table border=\"1\" class=\"dataframe\">\n",
       "  <thead>\n",
       "    <tr style=\"text-align: right;\">\n",
       "      <th></th>\n",
       "      <th>creditability</th>\n",
       "      <th>account_balance</th>\n",
       "      <th>previous_credit_payment_status</th>\n",
       "      <th>credit_duration_month</th>\n",
       "      <th>purpose_of_earlier_credit</th>\n",
       "      <th>credit_amount</th>\n",
       "      <th>installment_percent</th>\n",
       "      <th>current_emploment_length</th>\n",
       "      <th>sex_and_marital_status</th>\n",
       "      <th>guarantors</th>\n",
       "      <th>duration_at_current_address</th>\n",
       "      <th>most_valuable_available_asset</th>\n",
       "      <th>age</th>\n",
       "      <th>concurrent_credits</th>\n",
       "      <th>apartmenttype</th>\n",
       "      <th>howmanycreditsat_this_bank</th>\n",
       "      <th>occupation</th>\n",
       "      <th>dependents</th>\n",
       "      <th>telephone</th>\n",
       "      <th>foreign_worker</th>\n",
       "    </tr>\n",
       "  </thead>\n",
       "  <tbody>\n",
       "    <tr>\n",
       "      <th>995</th>\n",
       "      <td>0</td>\n",
       "      <td>1</td>\n",
       "      <td>2</td>\n",
       "      <td>24</td>\n",
       "      <td>3</td>\n",
       "      <td>1987</td>\n",
       "      <td>2</td>\n",
       "      <td>3</td>\n",
       "      <td>3</td>\n",
       "      <td>1</td>\n",
       "      <td>4</td>\n",
       "      <td>1</td>\n",
       "      <td>21</td>\n",
       "      <td>3</td>\n",
       "      <td>1</td>\n",
       "      <td>1</td>\n",
       "      <td>2</td>\n",
       "      <td>2</td>\n",
       "      <td>1</td>\n",
       "      <td>1</td>\n",
       "    </tr>\n",
       "    <tr>\n",
       "      <th>996</th>\n",
       "      <td>0</td>\n",
       "      <td>1</td>\n",
       "      <td>2</td>\n",
       "      <td>24</td>\n",
       "      <td>0</td>\n",
       "      <td>2303</td>\n",
       "      <td>4</td>\n",
       "      <td>5</td>\n",
       "      <td>3</td>\n",
       "      <td>2</td>\n",
       "      <td>1</td>\n",
       "      <td>1</td>\n",
       "      <td>45</td>\n",
       "      <td>3</td>\n",
       "      <td>2</td>\n",
       "      <td>1</td>\n",
       "      <td>3</td>\n",
       "      <td>1</td>\n",
       "      <td>1</td>\n",
       "      <td>1</td>\n",
       "    </tr>\n",
       "    <tr>\n",
       "      <th>997</th>\n",
       "      <td>0</td>\n",
       "      <td>4</td>\n",
       "      <td>4</td>\n",
       "      <td>21</td>\n",
       "      <td>0</td>\n",
       "      <td>12680</td>\n",
       "      <td>4</td>\n",
       "      <td>5</td>\n",
       "      <td>3</td>\n",
       "      <td>1</td>\n",
       "      <td>4</td>\n",
       "      <td>4</td>\n",
       "      <td>30</td>\n",
       "      <td>3</td>\n",
       "      <td>3</td>\n",
       "      <td>1</td>\n",
       "      <td>4</td>\n",
       "      <td>1</td>\n",
       "      <td>2</td>\n",
       "      <td>1</td>\n",
       "    </tr>\n",
       "    <tr>\n",
       "      <th>998</th>\n",
       "      <td>0</td>\n",
       "      <td>2</td>\n",
       "      <td>2</td>\n",
       "      <td>12</td>\n",
       "      <td>3</td>\n",
       "      <td>6468</td>\n",
       "      <td>2</td>\n",
       "      <td>1</td>\n",
       "      <td>3</td>\n",
       "      <td>1</td>\n",
       "      <td>1</td>\n",
       "      <td>4</td>\n",
       "      <td>52</td>\n",
       "      <td>3</td>\n",
       "      <td>2</td>\n",
       "      <td>1</td>\n",
       "      <td>4</td>\n",
       "      <td>1</td>\n",
       "      <td>2</td>\n",
       "      <td>1</td>\n",
       "    </tr>\n",
       "    <tr>\n",
       "      <th>999</th>\n",
       "      <td>0</td>\n",
       "      <td>1</td>\n",
       "      <td>2</td>\n",
       "      <td>30</td>\n",
       "      <td>2</td>\n",
       "      <td>6350</td>\n",
       "      <td>4</td>\n",
       "      <td>5</td>\n",
       "      <td>3</td>\n",
       "      <td>1</td>\n",
       "      <td>4</td>\n",
       "      <td>2</td>\n",
       "      <td>31</td>\n",
       "      <td>3</td>\n",
       "      <td>2</td>\n",
       "      <td>1</td>\n",
       "      <td>3</td>\n",
       "      <td>1</td>\n",
       "      <td>1</td>\n",
       "      <td>1</td>\n",
       "    </tr>\n",
       "  </tbody>\n",
       "</table>\n",
       "</div>"
      ],
      "text/plain": [
       "     creditability  account_balance  previous_credit_payment_status  \\\n",
       "995              0                1                               2   \n",
       "996              0                1                               2   \n",
       "997              0                4                               4   \n",
       "998              0                2                               2   \n",
       "999              0                1                               2   \n",
       "\n",
       "     credit_duration_month  purpose_of_earlier_credit  credit_amount  \\\n",
       "995                     24                          3           1987   \n",
       "996                     24                          0           2303   \n",
       "997                     21                          0          12680   \n",
       "998                     12                          3           6468   \n",
       "999                     30                          2           6350   \n",
       "\n",
       "     installment_percent  current_emploment_length  sex_and_marital_status  \\\n",
       "995                    2                         3                       3   \n",
       "996                    4                         5                       3   \n",
       "997                    4                         5                       3   \n",
       "998                    2                         1                       3   \n",
       "999                    4                         5                       3   \n",
       "\n",
       "     guarantors  duration_at_current_address  most_valuable_available_asset  \\\n",
       "995           1                            4                              1   \n",
       "996           2                            1                              1   \n",
       "997           1                            4                              4   \n",
       "998           1                            1                              4   \n",
       "999           1                            4                              2   \n",
       "\n",
       "     age  concurrent_credits  apartmenttype  howmanycreditsat_this_bank  \\\n",
       "995   21                   3              1                           1   \n",
       "996   45                   3              2                           1   \n",
       "997   30                   3              3                           1   \n",
       "998   52                   3              2                           1   \n",
       "999   31                   3              2                           1   \n",
       "\n",
       "     occupation  dependents  telephone  foreign_worker  \n",
       "995           2           2          1               1  \n",
       "996           3           1          1               1  \n",
       "997           4           1          2               1  \n",
       "998           4           1          2               1  \n",
       "999           3           1          1               1  "
      ]
     },
     "execution_count": 5,
     "metadata": {},
     "output_type": "execute_result"
    }
   ],
   "source": [
    "# 3.0 Read data from zip file\n",
    "german = pd.read_csv(\"german_credit.csv.zip\")\n",
    "\n",
    "# 3.1 Get to know data:\n",
    "german.shape             # 1000 X 20\n",
    "german.columns\n",
    "german.dtypes            # All are int64\n",
    "german.dtypes.value_counts() \n",
    "\n",
    "# 3.2 Look at data\n",
    "german.head()             # Target: creditability. All 1's are at top\n",
    "german.tail()             #  and 0s at the bottom"
   ]
  },
  {
   "cell_type": "code",
   "execution_count": 6,
   "metadata": {},
   "outputs": [
    {
     "data": {
      "text/plain": [
       "creditability                     0\n",
       "account_balance                   0\n",
       "previous_credit_payment_status    0\n",
       "credit_duration_month             0\n",
       "purpose_of_earlier_credit         0\n",
       "credit_amount                     0\n",
       "installment_percent               0\n",
       "current_emploment_length          0\n",
       "sex_and_marital_status            0\n",
       "guarantors                        0\n",
       "duration_at_current_address       0\n",
       "most_valuable_available_asset     0\n",
       "age                               0\n",
       "concurrent_credits                0\n",
       "apartmenttype                     0\n",
       "howmanycreditsat_this_bank        0\n",
       "occupation                        0\n",
       "dependents                        0\n",
       "telephone                         0\n",
       "foreign_worker                    0\n",
       "dtype: int64"
      ]
     },
     "execution_count": 6,
     "metadata": {},
     "output_type": "execute_result"
    },
    {
     "data": {
      "text/plain": [
       "1    700\n",
       "0    300\n",
       "Name: creditability, dtype: int64"
      ]
     },
     "execution_count": 6,
     "metadata": {},
     "output_type": "execute_result"
    }
   ],
   "source": [
    "# 3.3 Shuffle data\n",
    "german = german.sample(frac = 1)\n",
    " \n",
    "# 3.4 Missing data?\n",
    "german.isnull().sum()    # None\n",
    "\n",
    "# 3.5 Is target balanced?\n",
    "german['creditability'].value_counts()  # Ratio of 700:300"
   ]
  },
  {
   "cell_type": "code",
   "execution_count": 7,
   "metadata": {},
   "outputs": [
    {
     "data": {
      "text/plain": [
       "943    0\n",
       "126    1\n",
       "564    1\n",
       "Name: creditability, dtype: int64"
      ]
     },
     "execution_count": 7,
     "metadata": {},
     "output_type": "execute_result"
    }
   ],
   "source": [
    "# 4.1 Separate predictors and target\n",
    "# 4.1.1 Popup target\n",
    "y = german.pop('creditability')\n",
    "y[:3]                 # Pandas Series\n",
    "\n",
    "# 4.1.2 Create an alias of german\n",
    "X = german"
   ]
  },
  {
   "cell_type": "code",
   "execution_count": 8,
   "metadata": {},
   "outputs": [
    {
     "data": {
      "text/plain": [
       "(700, 19)"
      ]
     },
     "execution_count": 8,
     "metadata": {},
     "output_type": "execute_result"
    },
    {
     "data": {
      "text/plain": [
       "(300, 19)"
      ]
     },
     "execution_count": 8,
     "metadata": {},
     "output_type": "execute_result"
    },
    {
     "data": {
      "text/plain": [
       "(700,)"
      ]
     },
     "execution_count": 8,
     "metadata": {},
     "output_type": "execute_result"
    },
    {
     "data": {
      "text/plain": [
       "(300,)"
      ]
     },
     "execution_count": 8,
     "metadata": {},
     "output_type": "execute_result"
    }
   ],
   "source": [
    "###########################\n",
    "## Split and model\n",
    "###########################\n",
    "\n",
    "# 5 Split into train and test datasets AS ALSO GET INDICIES\n",
    "X_train,X_test, y_train, y_test = train_test_split(\n",
    "                                                    X,               # Predictors\n",
    "                                                    y,               # Target\n",
    "                                                    test_size = 0.3  # split-ratio\n",
    "                                                    )\n",
    "\n",
    "\n",
    "\n",
    "# 5.1 Check the splits\n",
    "X_train.shape       # 700 X 19\n",
    "X_test.shape        # 300 X 19\n",
    "y_train.shape       # (700,)\n",
    "y_test.shape        # (300,)"
   ]
  },
  {
   "cell_type": "code",
   "execution_count": 9,
   "metadata": {},
   "outputs": [
    {
     "data": {
      "text/plain": [
       "19"
      ]
     },
     "execution_count": 9,
     "metadata": {},
     "output_type": "execute_result"
    },
    {
     "data": {
      "text/plain": [
       "75"
      ]
     },
     "execution_count": 9,
     "metadata": {},
     "output_type": "execute_result"
    }
   ],
   "source": [
    "# 6.1 Create some features:\n",
    "# 6.1.1 Get an idea of 'age' variation\n",
    "X_train['age'].min()         # 20\n",
    "X_train['age'].max()         # 75"
   ]
  },
  {
   "cell_type": "code",
   "execution_count": 10,
   "metadata": {},
   "outputs": [
    {
     "data": {
      "text/html": [
       "<div>\n",
       "<style scoped>\n",
       "    .dataframe tbody tr th:only-of-type {\n",
       "        vertical-align: middle;\n",
       "    }\n",
       "\n",
       "    .dataframe tbody tr th {\n",
       "        vertical-align: top;\n",
       "    }\n",
       "\n",
       "    .dataframe thead th {\n",
       "        text-align: right;\n",
       "    }\n",
       "</style>\n",
       "<table border=\"1\" class=\"dataframe\">\n",
       "  <thead>\n",
       "    <tr style=\"text-align: right;\">\n",
       "      <th></th>\n",
       "      <th>age</th>\n",
       "      <th>age_cat</th>\n",
       "    </tr>\n",
       "  </thead>\n",
       "  <tbody>\n",
       "    <tr>\n",
       "      <th>226</th>\n",
       "      <td>35</td>\n",
       "      <td>0</td>\n",
       "    </tr>\n",
       "    <tr>\n",
       "      <th>331</th>\n",
       "      <td>26</td>\n",
       "      <td>0</td>\n",
       "    </tr>\n",
       "    <tr>\n",
       "      <th>257</th>\n",
       "      <td>23</td>\n",
       "      <td>0</td>\n",
       "    </tr>\n",
       "    <tr>\n",
       "      <th>656</th>\n",
       "      <td>38</td>\n",
       "      <td>1</td>\n",
       "    </tr>\n",
       "    <tr>\n",
       "      <th>758</th>\n",
       "      <td>24</td>\n",
       "      <td>0</td>\n",
       "    </tr>\n",
       "  </tbody>\n",
       "</table>\n",
       "</div>"
      ],
      "text/plain": [
       "     age age_cat\n",
       "226   35       0\n",
       "331   26       0\n",
       "257   23       0\n",
       "656   38       1\n",
       "758   24       0"
      ]
     },
     "execution_count": 10,
     "metadata": {},
     "output_type": "execute_result"
    },
    {
     "data": {
      "text/html": [
       "<div>\n",
       "<style scoped>\n",
       "    .dataframe tbody tr th:only-of-type {\n",
       "        vertical-align: middle;\n",
       "    }\n",
       "\n",
       "    .dataframe tbody tr th {\n",
       "        vertical-align: top;\n",
       "    }\n",
       "\n",
       "    .dataframe thead th {\n",
       "        text-align: right;\n",
       "    }\n",
       "</style>\n",
       "<table border=\"1\" class=\"dataframe\">\n",
       "  <thead>\n",
       "    <tr style=\"text-align: right;\">\n",
       "      <th></th>\n",
       "      <th>age</th>\n",
       "      <th>age_cat</th>\n",
       "    </tr>\n",
       "  </thead>\n",
       "  <tbody>\n",
       "    <tr>\n",
       "      <th>721</th>\n",
       "      <td>40</td>\n",
       "      <td>1</td>\n",
       "    </tr>\n",
       "    <tr>\n",
       "      <th>740</th>\n",
       "      <td>31</td>\n",
       "      <td>0</td>\n",
       "    </tr>\n",
       "    <tr>\n",
       "      <th>760</th>\n",
       "      <td>28</td>\n",
       "      <td>0</td>\n",
       "    </tr>\n",
       "    <tr>\n",
       "      <th>995</th>\n",
       "      <td>21</td>\n",
       "      <td>0</td>\n",
       "    </tr>\n",
       "    <tr>\n",
       "      <th>956</th>\n",
       "      <td>61</td>\n",
       "      <td>2</td>\n",
       "    </tr>\n",
       "  </tbody>\n",
       "</table>\n",
       "</div>"
      ],
      "text/plain": [
       "     age age_cat\n",
       "721   40       1\n",
       "740   31       0\n",
       "760   28       0\n",
       "995   21       0\n",
       "956   61       2"
      ]
     },
     "execution_count": 10,
     "metadata": {},
     "output_type": "execute_result"
    }
   ],
   "source": [
    "# 6.2 Based upon above statistics from X_train,\n",
    "#     decide intervals for bins:\n",
    "\n",
    "X_train['age_cat'] = pd.cut(\n",
    "                             X_train['age'],\n",
    "                             [5,35,50,100],\n",
    "                             labels=[\"0\",\"1\",\"2\"]\n",
    "                          )                      # Equal range cut\n",
    "\n",
    "X_train[['age','age_cat']].head()\n",
    "\n",
    "\n",
    "# 6.3 Transform X_test in similar manner:\n",
    "X_test['age_cat'] = pd.cut(\n",
    "                             X_test['age'],\n",
    "                             [5,35,50,100],\n",
    "                             labels=[\"0\",\"1\",\"2\"]\n",
    "                          )                      # Equal range cut\n",
    "\n",
    "X_test[['age','age_cat']].head()\n"
   ]
  },
  {
   "cell_type": "code",
   "execution_count": 11,
   "metadata": {},
   "outputs": [
    {
     "data": {
      "text/plain": [
       "276"
      ]
     },
     "execution_count": 11,
     "metadata": {},
     "output_type": "execute_result"
    },
    {
     "data": {
      "text/plain": [
       "15945"
      ]
     },
     "execution_count": 11,
     "metadata": {},
     "output_type": "execute_result"
    }
   ],
   "source": [
    "# 6.4 Get min and max values for credit_amount\n",
    "#     so that we can create bins:\n",
    "\n",
    "X_train['credit_amount'].min()    # 250\n",
    "X_train['credit_amount'].max()    # 18424"
   ]
  },
  {
   "cell_type": "code",
   "execution_count": 12,
   "metadata": {},
   "outputs": [
    {
     "data": {
      "text/html": [
       "<div>\n",
       "<style scoped>\n",
       "    .dataframe tbody tr th:only-of-type {\n",
       "        vertical-align: middle;\n",
       "    }\n",
       "\n",
       "    .dataframe tbody tr th {\n",
       "        vertical-align: top;\n",
       "    }\n",
       "\n",
       "    .dataframe thead th {\n",
       "        text-align: right;\n",
       "    }\n",
       "</style>\n",
       "<table border=\"1\" class=\"dataframe\">\n",
       "  <thead>\n",
       "    <tr style=\"text-align: right;\">\n",
       "      <th></th>\n",
       "      <th>credit_amount</th>\n",
       "      <th>credit_amount_cat</th>\n",
       "    </tr>\n",
       "  </thead>\n",
       "  <tbody>\n",
       "    <tr>\n",
       "      <th>226</th>\n",
       "      <td>4380</td>\n",
       "      <td>0</td>\n",
       "    </tr>\n",
       "    <tr>\n",
       "      <th>331</th>\n",
       "      <td>2404</td>\n",
       "      <td>0</td>\n",
       "    </tr>\n",
       "    <tr>\n",
       "      <th>257</th>\n",
       "      <td>2146</td>\n",
       "      <td>0</td>\n",
       "    </tr>\n",
       "    <tr>\n",
       "      <th>656</th>\n",
       "      <td>1216</td>\n",
       "      <td>0</td>\n",
       "    </tr>\n",
       "    <tr>\n",
       "      <th>758</th>\n",
       "      <td>2150</td>\n",
       "      <td>0</td>\n",
       "    </tr>\n",
       "  </tbody>\n",
       "</table>\n",
       "</div>"
      ],
      "text/plain": [
       "     credit_amount credit_amount_cat\n",
       "226           4380                 0\n",
       "331           2404                 0\n",
       "257           2146                 0\n",
       "656           1216                 0\n",
       "758           2150                 0"
      ]
     },
     "execution_count": 12,
     "metadata": {},
     "output_type": "execute_result"
    },
    {
     "data": {
      "text/html": [
       "<div>\n",
       "<style scoped>\n",
       "    .dataframe tbody tr th:only-of-type {\n",
       "        vertical-align: middle;\n",
       "    }\n",
       "\n",
       "    .dataframe tbody tr th {\n",
       "        vertical-align: top;\n",
       "    }\n",
       "\n",
       "    .dataframe thead th {\n",
       "        text-align: right;\n",
       "    }\n",
       "</style>\n",
       "<table border=\"1\" class=\"dataframe\">\n",
       "  <thead>\n",
       "    <tr style=\"text-align: right;\">\n",
       "      <th></th>\n",
       "      <th>credit_amount</th>\n",
       "      <th>credit_amount_cat</th>\n",
       "    </tr>\n",
       "  </thead>\n",
       "  <tbody>\n",
       "    <tr>\n",
       "      <th>721</th>\n",
       "      <td>1905</td>\n",
       "      <td>0</td>\n",
       "    </tr>\n",
       "    <tr>\n",
       "      <th>740</th>\n",
       "      <td>1736</td>\n",
       "      <td>0</td>\n",
       "    </tr>\n",
       "    <tr>\n",
       "      <th>760</th>\n",
       "      <td>3060</td>\n",
       "      <td>0</td>\n",
       "    </tr>\n",
       "    <tr>\n",
       "      <th>995</th>\n",
       "      <td>1987</td>\n",
       "      <td>0</td>\n",
       "    </tr>\n",
       "    <tr>\n",
       "      <th>956</th>\n",
       "      <td>2767</td>\n",
       "      <td>0</td>\n",
       "    </tr>\n",
       "  </tbody>\n",
       "</table>\n",
       "</div>"
      ],
      "text/plain": [
       "     credit_amount credit_amount_cat\n",
       "721           1905                 0\n",
       "740           1736                 0\n",
       "760           3060                 0\n",
       "995           1987                 0\n",
       "956           2767                 0"
      ]
     },
     "execution_count": 12,
     "metadata": {},
     "output_type": "execute_result"
    }
   ],
   "source": [
    "# 6.5 Decide intervals and bin credit amount\n",
    "#     We take min as 200 and max as 20000\n",
    "\n",
    "X_train['credit_amount_cat'] = pd.cut(\n",
    "                                      X_train['credit_amount'],\n",
    "                                      [200,6000,12000,20000],\n",
    "                                      labels=[\"0\",\"1\",\"2\"]\n",
    "                                     )\n",
    "\n",
    "# 6.5.1 Check\n",
    "X_train[['credit_amount','credit_amount_cat']].head()\n",
    "\n",
    "# 6.6 Similarly for X_test\n",
    "X_test['credit_amount_cat'] = pd.cut(\n",
    "                                      X_test['credit_amount'],\n",
    "                                      [200,6000,12000,20000],\n",
    "                                      labels=[\"0\",\"1\",\"2\"]\n",
    "                                     )\n",
    "# 6.6.1 Check\n",
    "X_test[['credit_amount','credit_amount_cat']].head()"
   ]
  },
  {
   "cell_type": "code",
   "execution_count": 13,
   "metadata": {},
   "outputs": [
    {
     "data": {
      "text/plain": [
       "account_balance                     4\n",
       "previous_credit_payment_status      5\n",
       "credit_duration_month              32\n",
       "purpose_of_earlier_credit          10\n",
       "credit_amount                     665\n",
       "installment_percent                 4\n",
       "current_emploment_length            5\n",
       "sex_and_marital_status              4\n",
       "guarantors                          3\n",
       "duration_at_current_address         4\n",
       "most_valuable_available_asset       4\n",
       "age                                53\n",
       "concurrent_credits                  3\n",
       "apartmenttype                       3\n",
       "howmanycreditsat_this_bank          4\n",
       "occupation                          4\n",
       "dependents                          2\n",
       "telephone                           2\n",
       "foreign_worker                      2\n",
       "age_cat                             3\n",
       "credit_amount_cat                   3\n",
       "dtype: int64"
      ]
     },
     "execution_count": 13,
     "metadata": {},
     "output_type": "execute_result"
    },
    {
     "data": {
      "text/plain": [
       "account_balance                    True\n",
       "previous_credit_payment_status    False\n",
       "credit_duration_month             False\n",
       "purpose_of_earlier_credit         False\n",
       "credit_amount                     False\n",
       "installment_percent                True\n",
       "current_emploment_length          False\n",
       "sex_and_marital_status             True\n",
       "guarantors                         True\n",
       "duration_at_current_address        True\n",
       "most_valuable_available_asset      True\n",
       "age                               False\n",
       "concurrent_credits                 True\n",
       "apartmenttype                      True\n",
       "howmanycreditsat_this_bank         True\n",
       "occupation                         True\n",
       "dependents                         True\n",
       "telephone                          True\n",
       "foreign_worker                     True\n",
       "age_cat                            True\n",
       "credit_amount_cat                  True\n",
       "dtype: bool"
      ]
     },
     "execution_count": 13,
     "metadata": {},
     "output_type": "execute_result"
    },
    {
     "data": {
      "text/plain": [
       "['account_balance',\n",
       " 'installment_percent',\n",
       " 'sex_and_marital_status',\n",
       " 'guarantors',\n",
       " 'duration_at_current_address',\n",
       " 'most_valuable_available_asset',\n",
       " 'concurrent_credits',\n",
       " 'apartmenttype',\n",
       " 'howmanycreditsat_this_bank',\n",
       " 'occupation',\n",
       " 'dependents',\n",
       " 'telephone',\n",
       " 'foreign_worker',\n",
       " 'age_cat',\n",
       " 'credit_amount_cat']"
      ]
     },
     "execution_count": 13,
     "metadata": {},
     "output_type": "execute_result"
    },
    {
     "data": {
      "text/plain": [
       "['previous_credit_payment_status',\n",
       " 'credit_duration_month',\n",
       " 'purpose_of_earlier_credit',\n",
       " 'credit_amount',\n",
       " 'current_emploment_length',\n",
       " 'age']"
      ]
     },
     "execution_count": 13,
     "metadata": {},
     "output_type": "execute_result"
    }
   ],
   "source": [
    "### 7.0\n",
    "###    We now want to know which of the columns are categorical\n",
    "###    but disguised as integers\n",
    "\n",
    "# 7.1 How many unique values per column.\n",
    "#     Check every column\n",
    "#     We will assume that if unique values are 4 or less\n",
    "#     it is categorical column else numeric\n",
    "X_train.nunique()\n",
    "X_train.nunique() < 5    # All True are categorical\n",
    "dg = (X_train.nunique() < 5)\n",
    "\n",
    "# 7.2 List of cat/num columns\n",
    "categorical_columns = dg[dg].index.tolist()\n",
    "numerical_columns  = dg[dg == False].index.tolist()\n",
    "\n",
    "# 7.3 Here is our list\n",
    "categorical_columns    # 15\n",
    "numerical_columns      # 6\n"
   ]
  },
  {
   "cell_type": "code",
   "execution_count": 14,
   "metadata": {},
   "outputs": [
    {
     "data": {
      "text/plain": [
       "ColumnTransformer(n_jobs=None, remainder='drop', sparse_threshold=0.3,\n",
       "                  transformer_weights=None,\n",
       "                  transformers=[('categorical',\n",
       "                                 OneHotEncoder(categories='auto', drop=None,\n",
       "                                               dtype=<class 'numpy.float64'>,\n",
       "                                               handle_unknown='error',\n",
       "                                               sparse=True),\n",
       "                                 ['account_balance', 'installment_percent',\n",
       "                                  'sex_and_marital_status', 'guarantors',\n",
       "                                  'duration_at_current_address',\n",
       "                                  'most_valuab...\n",
       "                                  'concurrent_credits', 'apartmenttype',\n",
       "                                  'howmanycreditsat_this_bank', 'occupation',\n",
       "                                  'dependents', 'telephone', 'foreign_worker',\n",
       "                                  'age_cat', 'credit_amount_cat']),\n",
       "                                ('numeric',\n",
       "                                 StandardScaler(copy=True, with_mean=True,\n",
       "                                                with_std=True),\n",
       "                                 ['previous_credit_payment_status',\n",
       "                                  'credit_duration_month',\n",
       "                                  'purpose_of_earlier_credit', 'credit_amount',\n",
       "                                  'current_emploment_length', 'age'])],\n",
       "                  verbose=False)"
      ]
     },
     "execution_count": 14,
     "metadata": {},
     "output_type": "execute_result"
    }
   ],
   "source": [
    "# 8.0 Preparing for inputs to ColumnTransformer()\n",
    "#     Create a tuple of processing tasks, as:\n",
    "#     (taskName, objectToPerformTask, columns-upon-which-to-perform)\n",
    "\n",
    "# 8.1 OHE transformer: \n",
    "#     To one hot encode categorical columns\n",
    "#     Format: (some _name   , transformer  , columns_list)\n",
    "op_cat =      ('categorical', ohe()        , categorical_columns)\n",
    "\n",
    "# 8.2 Scaling Transformer:\n",
    "#     To scale numerical columns\n",
    "op_num = ('numeric', ss(), numerical_columns)\n",
    "\n",
    "# 8.3 Instantiate columnTransformer class.\n",
    "#     Specify what all operations to perform in parallel\n",
    "col_trans = ColumnTransformer([op_cat, op_num])\n",
    "\n",
    "\n",
    "# Just checking if ColumnTransformer is OK.\n",
    "#  We will be nesting ColumnTransformer in Pipeline\n",
    "#   No error should be generated\n",
    "\n",
    "# 8.4 Learn data\n",
    "col_trans.fit(X_train)\n",
    "# 8.5 Now transform X_train\n",
    "Xt = col_trans.transform(X_train)\n"
   ]
  },
  {
   "cell_type": "code",
   "execution_count": 15,
   "metadata": {},
   "outputs": [
    {
     "data": {
      "text/plain": [
       "(700, 55)"
      ]
     },
     "execution_count": 15,
     "metadata": {},
     "output_type": "execute_result"
    },
    {
     "data": {
      "text/plain": [
       "array([[1., 0., 0.],\n",
       "       [0., 0., 0.],\n",
       "       [0., 0., 0.],\n",
       "       [0., 1., 0.],\n",
       "       [0., 1., 0.]])"
      ]
     },
     "execution_count": 15,
     "metadata": {},
     "output_type": "execute_result"
    },
    {
     "data": {
      "text/plain": [
       "array([[-0.505, -0.233, -1.033,  0.399, -0.293, -0.03 ],\n",
       "       [ 1.309, -0.233,  0.056, -0.314, -0.293, -0.824],\n",
       "       [ 1.309, -0.886, -0.307, -0.407, -1.11 , -1.089],\n",
       "       [ 1.309,  0.257,  0.056, -0.743, -1.11 ,  0.235],\n",
       "       [-0.505,  0.747, -1.033, -0.406, -0.293, -1.   ]])"
      ]
     },
     "execution_count": 15,
     "metadata": {},
     "output_type": "execute_result"
    }
   ],
   "source": [
    "# 8.6 Just \n",
    "Xt.shape           # 700 X 55\n",
    "Xt[:5, :3]         # See dummy variables\n",
    "Xt[:5,49:]         # See only numeric columns`"
   ]
  },
  {
   "cell_type": "code",
   "execution_count": 16,
   "metadata": {},
   "outputs": [],
   "source": [
    "# 9.0 Develop Pipeline now\n",
    "pipe = Pipeline(\n",
    "                 [\n",
    "                     ('ct', col_trans),\n",
    "                     ('dt', dt())\n",
    "                 ]\n",
    "               )"
   ]
  },
  {
   "cell_type": "code",
   "execution_count": 17,
   "metadata": {},
   "outputs": [
    {
     "data": {
      "text/plain": [
       "Pipeline(memory=None,\n",
       "         steps=[('ct',\n",
       "                 ColumnTransformer(n_jobs=None, remainder='drop',\n",
       "                                   sparse_threshold=0.3,\n",
       "                                   transformer_weights=None,\n",
       "                                   transformers=[('categorical',\n",
       "                                                  OneHotEncoder(categories='auto',\n",
       "                                                                drop=None,\n",
       "                                                                dtype=<class 'numpy.float64'>,\n",
       "                                                                handle_unknown='error',\n",
       "                                                                sparse=True),\n",
       "                                                  ['account_balance',\n",
       "                                                   'installment_percent',\n",
       "                                                   'sex_and_marital_status',\n",
       "                                                   'guarantors',\n",
       "                                                   'duratio...\n",
       "                                                   'current_emploment_length',\n",
       "                                                   'age'])],\n",
       "                                   verbose=False)),\n",
       "                ('dt',\n",
       "                 DecisionTreeClassifier(ccp_alpha=0.0, class_weight=None,\n",
       "                                        criterion='gini', max_depth=None,\n",
       "                                        max_features=None, max_leaf_nodes=None,\n",
       "                                        min_impurity_decrease=0.0,\n",
       "                                        min_impurity_split=None,\n",
       "                                        min_samples_leaf=1, min_samples_split=2,\n",
       "                                        min_weight_fraction_leaf=0.0,\n",
       "                                        presort='deprecated', random_state=None,\n",
       "                                        splitter='best'))],\n",
       "         verbose=False)"
      ]
     },
     "execution_count": 17,
     "metadata": {},
     "output_type": "execute_result"
    }
   ],
   "source": [
    "# 9.1 pipe also acts as an estimator\n",
    "#     Train pipe\n",
    "pipe.fit(X_train,y_train)"
   ]
  },
  {
   "cell_type": "code",
   "execution_count": 18,
   "metadata": {},
   "outputs": [
    {
     "data": {
      "text/plain": [
       "array([1, 1, 0, 1, 0, 1, 1, 0, 1, 1, 0, 0, 1, 1, 1, 1, 1, 1, 0, 1, 0, 1,\n",
       "       1, 1, 1, 1, 1, 1, 1, 1, 0, 1, 1, 1, 0, 1, 0, 1, 0, 0, 1, 0, 0, 0,\n",
       "       0, 0, 0, 1, 0, 1, 0, 1, 0, 1, 1, 1, 1, 1, 1, 1, 0, 1, 1, 1, 0, 1,\n",
       "       1, 0, 1, 1, 0, 1, 1, 1, 1, 1, 1, 1, 1, 1, 0, 1, 1, 0, 1, 1, 0, 1,\n",
       "       1, 0, 1, 0, 0, 1, 1, 0, 1, 1, 1, 1, 0, 1, 1, 1, 1, 1, 1, 1, 1, 1,\n",
       "       1, 1, 1, 1, 1, 1, 1, 1, 1, 0, 1, 1, 1, 1, 0, 1, 0, 0, 0, 1, 1, 1,\n",
       "       1, 1, 1, 1, 0, 1, 0, 1, 1, 0, 1, 0, 0, 0, 1, 1, 1, 0, 0, 1, 1, 1,\n",
       "       1, 0, 0, 0, 0, 1, 1, 1, 1, 0, 1, 0, 1, 1, 0, 1, 1, 0, 1, 0, 1, 0,\n",
       "       0, 0, 1, 1, 1, 1, 1, 1, 1, 1, 1, 1, 1, 1, 1, 1, 1, 1, 1, 1, 1, 1,\n",
       "       0, 1, 1, 1, 1, 1, 1, 1, 0, 1, 1, 0, 1, 0, 1, 1, 1, 1, 1, 0, 0, 1,\n",
       "       1, 0, 1, 0, 0, 1, 1, 1, 0, 0, 1, 0, 1, 0, 1, 1, 0, 1, 1, 1, 1, 1,\n",
       "       1, 1, 0, 1, 0, 1, 1, 1, 1, 1, 1, 1, 0, 1, 0, 1, 1, 0, 0, 1, 1, 1,\n",
       "       1, 1, 1, 0, 1, 1, 0, 1, 1, 0, 0, 0, 0, 0, 1, 1, 1, 1, 1, 1, 1, 1,\n",
       "       1, 1, 0, 1, 1, 0, 1, 1, 0, 1, 1, 1, 0, 1], dtype=int64)"
      ]
     },
     "execution_count": 18,
     "metadata": {},
     "output_type": "execute_result"
    },
    {
     "data": {
      "text/plain": [
       "0.6566666666666666"
      ]
     },
     "execution_count": 18,
     "metadata": {},
     "output_type": "execute_result"
    }
   ],
   "source": [
    "# 9.2 Make predictions\n",
    "pred = pipe.predict(X_test)\n",
    "pred\n",
    "# 9.3 Check Accuracy\n",
    "np.sum(pred == y_test)/len(y_test)    # 67%"
   ]
  },
  {
   "cell_type": "code",
   "execution_count": 19,
   "metadata": {},
   "outputs": [
    {
     "data": {
      "text/plain": [
       "Pipeline(memory=None,\n",
       "         steps=[('ct',\n",
       "                 ColumnTransformer(n_jobs=None, remainder='drop',\n",
       "                                   sparse_threshold=0.3,\n",
       "                                   transformer_weights=None,\n",
       "                                   transformers=[('categorical',\n",
       "                                                  OneHotEncoder(categories='auto',\n",
       "                                                                drop=None,\n",
       "                                                                dtype=<class 'numpy.float64'>,\n",
       "                                                                handle_unknown='error',\n",
       "                                                                sparse=True),\n",
       "                                                  ['account_balance',\n",
       "                                                   'installment_percent',\n",
       "                                                   'sex_and_marital_status',\n",
       "                                                   'guarantors',\n",
       "                                                   'duratio...\n",
       "                                                   'current_emploment_length',\n",
       "                                                   'age'])],\n",
       "                                   verbose=False)),\n",
       "                ('dt',\n",
       "                 DecisionTreeClassifier(ccp_alpha=0.0, class_weight=None,\n",
       "                                        criterion='gini', max_depth=None,\n",
       "                                        max_features=None, max_leaf_nodes=None,\n",
       "                                        min_impurity_decrease=0.0,\n",
       "                                        min_impurity_split=None,\n",
       "                                        min_samples_leaf=10,\n",
       "                                        min_samples_split=2,\n",
       "                                        min_weight_fraction_leaf=0.0,\n",
       "                                        presort='deprecated', random_state=None,\n",
       "                                        splitter='best'))],\n",
       "         verbose=False)"
      ]
     },
     "execution_count": 19,
     "metadata": {},
     "output_type": "execute_result"
    },
    {
     "data": {
      "text/plain": [
       "0.6566666666666666"
      ]
     },
     "execution_count": 19,
     "metadata": {},
     "output_type": "execute_result"
    }
   ],
   "source": [
    "# 10.0 Change decision tree parameters and check\n",
    "pipe = Pipeline(\n",
    "                 [\n",
    "                     ('ct', col_trans),\n",
    "                     ('dt', dt(min_samples_leaf = 10))\n",
    "                 ]\n",
    "               )\n",
    "pipe.fit(X_train,y_train)\n",
    "pred = pipe.predict(X_test)\n",
    "np.sum(pred == y_test)/len(y_test)    # 67%"
   ]
  },
  {
   "cell_type": "code",
   "execution_count": 20,
   "metadata": {},
   "outputs": [
    {
     "data": {
      "text/plain": [
       "Pipeline(memory=None,\n",
       "         steps=[('ct',\n",
       "                 ColumnTransformer(n_jobs=None, remainder='drop',\n",
       "                                   sparse_threshold=0.3,\n",
       "                                   transformer_weights=None,\n",
       "                                   transformers=[('categorical',\n",
       "                                                  OneHotEncoder(categories='auto',\n",
       "                                                                drop=None,\n",
       "                                                                dtype=<class 'numpy.float64'>,\n",
       "                                                                handle_unknown='error',\n",
       "                                                                sparse=True),\n",
       "                                                  ['account_balance',\n",
       "                                                   'installment_percent',\n",
       "                                                   'sex_and_marital_status',\n",
       "                                                   'guarantors',\n",
       "                                                   'duratio...\n",
       "                                                   'current_emploment_length',\n",
       "                                                   'age'])],\n",
       "                                   verbose=False)),\n",
       "                ('dt',\n",
       "                 DecisionTreeClassifier(ccp_alpha=0.0, class_weight=None,\n",
       "                                        criterion='gini', max_depth=4,\n",
       "                                        max_features=None, max_leaf_nodes=None,\n",
       "                                        min_impurity_decrease=0.0,\n",
       "                                        min_impurity_split=None,\n",
       "                                        min_samples_leaf=10,\n",
       "                                        min_samples_split=2,\n",
       "                                        min_weight_fraction_leaf=0.0,\n",
       "                                        presort='deprecated', random_state=None,\n",
       "                                        splitter='best'))],\n",
       "         verbose=False)"
      ]
     },
     "execution_count": 20,
     "metadata": {},
     "output_type": "execute_result"
    },
    {
     "data": {
      "text/plain": [
       "0.6733333333333333"
      ]
     },
     "execution_count": 20,
     "metadata": {},
     "output_type": "execute_result"
    }
   ],
   "source": [
    "# 10.1 Change decision tree parameters further\n",
    "pipe = Pipeline(\n",
    "                 [\n",
    "                     ('ct', col_trans),\n",
    "                     ('dt', dt(min_samples_leaf = 10,\n",
    "                                max_depth = 4\n",
    "                               )\n",
    "                     )\n",
    "                 ]\n",
    "               )\n",
    "pipe.fit(X_train,y_train)\n",
    "pred = pipe.predict(X_test)\n",
    "np.sum(pred == y_test)/len(y_test)    # 67%"
   ]
  },
  {
   "cell_type": "code",
   "execution_count": null,
   "metadata": {},
   "outputs": [],
   "source": [
    "############## Done now ####################"
   ]
  }
 ],
 "metadata": {
  "kernelspec": {
   "display_name": "Python 3",
   "language": "python",
   "name": "python3"
  },
  "language_info": {
   "codemirror_mode": {
    "name": "ipython",
    "version": 3
   },
   "file_extension": ".py",
   "mimetype": "text/x-python",
   "name": "python",
   "nbconvert_exporter": "python",
   "pygments_lexer": "ipython3",
   "version": "3.7.6"
  }
 },
 "nbformat": 4,
 "nbformat_minor": 4
}
