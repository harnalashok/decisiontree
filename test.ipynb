{
  "nbformat": 4,
  "nbformat_minor": 0,
  "metadata": {
    "colab": {
      "name": "test.ipynb",
      "provenance": [],
      "mount_file_id": "1K1IYDKAfyuq8KxFkYRqfqDJ1eWynVYhG",
      "authorship_tag": "ABX9TyPO9P4loxSwn5Bk+IoNba7v",
      "include_colab_link": true
    },
    "kernelspec": {
      "name": "python3",
      "display_name": "Python 3"
    }
  },
  "cells": [
    {
      "cell_type": "markdown",
      "metadata": {
        "id": "view-in-github",
        "colab_type": "text"
      },
      "source": [
        "<a href=\"https://colab.research.google.com/github/harnalashok/decisiontree/blob/master/test.ipynb\" target=\"_parent\"><img src=\"https://colab.research.google.com/assets/colab-badge.svg\" alt=\"Open In Colab\"/></a>"
      ]
    },
    {
      "cell_type": "code",
      "metadata": {
        "id": "--IB5paT6OQG"
      },
      "source": [
        "import pandas as pd\r\n",
        "import numpy as np\r\n",
        "from sklearn.model_selection import train_test_split\r\n",
        "import tensorflow as tf\r\n",
        "from tensorflow import keras\r\n"
      ],
      "execution_count": 1,
      "outputs": []
    },
    {
      "cell_type": "code",
      "metadata": {
        "id": "Q1cSdq1m6QYb"
      },
      "source": [
        "data = pd.read_csv(\"/content/drive/MyDrive/Colab Notebooks/archive.csv.zip\")"
      ],
      "execution_count": 2,
      "outputs": []
    },
    {
      "cell_type": "code",
      "metadata": {
        "colab": {
          "base_uri": "https://localhost:8080/",
          "height": 226
        },
        "id": "_WpZJ6Cz6jJu",
        "outputId": "364ad6bf-458b-4ea2-a2da-a1a2d9a03ce3"
      },
      "source": [
        "data.head()"
      ],
      "execution_count": 3,
      "outputs": [
        {
          "output_type": "execute_result",
          "data": {
            "text/html": [
              "<div>\n",
              "<style scoped>\n",
              "    .dataframe tbody tr th:only-of-type {\n",
              "        vertical-align: middle;\n",
              "    }\n",
              "\n",
              "    .dataframe tbody tr th {\n",
              "        vertical-align: top;\n",
              "    }\n",
              "\n",
              "    .dataframe thead th {\n",
              "        text-align: right;\n",
              "    }\n",
              "</style>\n",
              "<table border=\"1\" class=\"dataframe\">\n",
              "  <thead>\n",
              "    <tr style=\"text-align: right;\">\n",
              "      <th></th>\n",
              "      <th>Time</th>\n",
              "      <th>V1</th>\n",
              "      <th>V2</th>\n",
              "      <th>V3</th>\n",
              "      <th>V4</th>\n",
              "      <th>V5</th>\n",
              "      <th>V6</th>\n",
              "      <th>V7</th>\n",
              "      <th>V8</th>\n",
              "      <th>V9</th>\n",
              "      <th>V10</th>\n",
              "      <th>V11</th>\n",
              "      <th>V12</th>\n",
              "      <th>V13</th>\n",
              "      <th>V14</th>\n",
              "      <th>V15</th>\n",
              "      <th>V16</th>\n",
              "      <th>V17</th>\n",
              "      <th>V18</th>\n",
              "      <th>V19</th>\n",
              "      <th>V20</th>\n",
              "      <th>V21</th>\n",
              "      <th>V22</th>\n",
              "      <th>V23</th>\n",
              "      <th>V24</th>\n",
              "      <th>V25</th>\n",
              "      <th>V26</th>\n",
              "      <th>V27</th>\n",
              "      <th>V28</th>\n",
              "      <th>Amount</th>\n",
              "      <th>Class</th>\n",
              "    </tr>\n",
              "  </thead>\n",
              "  <tbody>\n",
              "    <tr>\n",
              "      <th>0</th>\n",
              "      <td>0.0</td>\n",
              "      <td>-1.359807</td>\n",
              "      <td>-0.072781</td>\n",
              "      <td>2.536347</td>\n",
              "      <td>1.378155</td>\n",
              "      <td>-0.338321</td>\n",
              "      <td>0.462388</td>\n",
              "      <td>0.239599</td>\n",
              "      <td>0.098698</td>\n",
              "      <td>0.363787</td>\n",
              "      <td>0.090794</td>\n",
              "      <td>-0.551600</td>\n",
              "      <td>-0.617801</td>\n",
              "      <td>-0.991390</td>\n",
              "      <td>-0.311169</td>\n",
              "      <td>1.468177</td>\n",
              "      <td>-0.470401</td>\n",
              "      <td>0.207971</td>\n",
              "      <td>0.025791</td>\n",
              "      <td>0.403993</td>\n",
              "      <td>0.251412</td>\n",
              "      <td>-0.018307</td>\n",
              "      <td>0.277838</td>\n",
              "      <td>-0.110474</td>\n",
              "      <td>0.066928</td>\n",
              "      <td>0.128539</td>\n",
              "      <td>-0.189115</td>\n",
              "      <td>0.133558</td>\n",
              "      <td>-0.021053</td>\n",
              "      <td>149.62</td>\n",
              "      <td>0</td>\n",
              "    </tr>\n",
              "    <tr>\n",
              "      <th>1</th>\n",
              "      <td>0.0</td>\n",
              "      <td>1.191857</td>\n",
              "      <td>0.266151</td>\n",
              "      <td>0.166480</td>\n",
              "      <td>0.448154</td>\n",
              "      <td>0.060018</td>\n",
              "      <td>-0.082361</td>\n",
              "      <td>-0.078803</td>\n",
              "      <td>0.085102</td>\n",
              "      <td>-0.255425</td>\n",
              "      <td>-0.166974</td>\n",
              "      <td>1.612727</td>\n",
              "      <td>1.065235</td>\n",
              "      <td>0.489095</td>\n",
              "      <td>-0.143772</td>\n",
              "      <td>0.635558</td>\n",
              "      <td>0.463917</td>\n",
              "      <td>-0.114805</td>\n",
              "      <td>-0.183361</td>\n",
              "      <td>-0.145783</td>\n",
              "      <td>-0.069083</td>\n",
              "      <td>-0.225775</td>\n",
              "      <td>-0.638672</td>\n",
              "      <td>0.101288</td>\n",
              "      <td>-0.339846</td>\n",
              "      <td>0.167170</td>\n",
              "      <td>0.125895</td>\n",
              "      <td>-0.008983</td>\n",
              "      <td>0.014724</td>\n",
              "      <td>2.69</td>\n",
              "      <td>0</td>\n",
              "    </tr>\n",
              "    <tr>\n",
              "      <th>2</th>\n",
              "      <td>1.0</td>\n",
              "      <td>-1.358354</td>\n",
              "      <td>-1.340163</td>\n",
              "      <td>1.773209</td>\n",
              "      <td>0.379780</td>\n",
              "      <td>-0.503198</td>\n",
              "      <td>1.800499</td>\n",
              "      <td>0.791461</td>\n",
              "      <td>0.247676</td>\n",
              "      <td>-1.514654</td>\n",
              "      <td>0.207643</td>\n",
              "      <td>0.624501</td>\n",
              "      <td>0.066084</td>\n",
              "      <td>0.717293</td>\n",
              "      <td>-0.165946</td>\n",
              "      <td>2.345865</td>\n",
              "      <td>-2.890083</td>\n",
              "      <td>1.109969</td>\n",
              "      <td>-0.121359</td>\n",
              "      <td>-2.261857</td>\n",
              "      <td>0.524980</td>\n",
              "      <td>0.247998</td>\n",
              "      <td>0.771679</td>\n",
              "      <td>0.909412</td>\n",
              "      <td>-0.689281</td>\n",
              "      <td>-0.327642</td>\n",
              "      <td>-0.139097</td>\n",
              "      <td>-0.055353</td>\n",
              "      <td>-0.059752</td>\n",
              "      <td>378.66</td>\n",
              "      <td>0</td>\n",
              "    </tr>\n",
              "    <tr>\n",
              "      <th>3</th>\n",
              "      <td>1.0</td>\n",
              "      <td>-0.966272</td>\n",
              "      <td>-0.185226</td>\n",
              "      <td>1.792993</td>\n",
              "      <td>-0.863291</td>\n",
              "      <td>-0.010309</td>\n",
              "      <td>1.247203</td>\n",
              "      <td>0.237609</td>\n",
              "      <td>0.377436</td>\n",
              "      <td>-1.387024</td>\n",
              "      <td>-0.054952</td>\n",
              "      <td>-0.226487</td>\n",
              "      <td>0.178228</td>\n",
              "      <td>0.507757</td>\n",
              "      <td>-0.287924</td>\n",
              "      <td>-0.631418</td>\n",
              "      <td>-1.059647</td>\n",
              "      <td>-0.684093</td>\n",
              "      <td>1.965775</td>\n",
              "      <td>-1.232622</td>\n",
              "      <td>-0.208038</td>\n",
              "      <td>-0.108300</td>\n",
              "      <td>0.005274</td>\n",
              "      <td>-0.190321</td>\n",
              "      <td>-1.175575</td>\n",
              "      <td>0.647376</td>\n",
              "      <td>-0.221929</td>\n",
              "      <td>0.062723</td>\n",
              "      <td>0.061458</td>\n",
              "      <td>123.50</td>\n",
              "      <td>0</td>\n",
              "    </tr>\n",
              "    <tr>\n",
              "      <th>4</th>\n",
              "      <td>2.0</td>\n",
              "      <td>-1.158233</td>\n",
              "      <td>0.877737</td>\n",
              "      <td>1.548718</td>\n",
              "      <td>0.403034</td>\n",
              "      <td>-0.407193</td>\n",
              "      <td>0.095921</td>\n",
              "      <td>0.592941</td>\n",
              "      <td>-0.270533</td>\n",
              "      <td>0.817739</td>\n",
              "      <td>0.753074</td>\n",
              "      <td>-0.822843</td>\n",
              "      <td>0.538196</td>\n",
              "      <td>1.345852</td>\n",
              "      <td>-1.119670</td>\n",
              "      <td>0.175121</td>\n",
              "      <td>-0.451449</td>\n",
              "      <td>-0.237033</td>\n",
              "      <td>-0.038195</td>\n",
              "      <td>0.803487</td>\n",
              "      <td>0.408542</td>\n",
              "      <td>-0.009431</td>\n",
              "      <td>0.798278</td>\n",
              "      <td>-0.137458</td>\n",
              "      <td>0.141267</td>\n",
              "      <td>-0.206010</td>\n",
              "      <td>0.502292</td>\n",
              "      <td>0.219422</td>\n",
              "      <td>0.215153</td>\n",
              "      <td>69.99</td>\n",
              "      <td>0</td>\n",
              "    </tr>\n",
              "  </tbody>\n",
              "</table>\n",
              "</div>"
            ],
            "text/plain": [
              "   Time        V1        V2        V3  ...       V27       V28  Amount  Class\n",
              "0   0.0 -1.359807 -0.072781  2.536347  ...  0.133558 -0.021053  149.62      0\n",
              "1   0.0  1.191857  0.266151  0.166480  ... -0.008983  0.014724    2.69      0\n",
              "2   1.0 -1.358354 -1.340163  1.773209  ... -0.055353 -0.059752  378.66      0\n",
              "3   1.0 -0.966272 -0.185226  1.792993  ...  0.062723  0.061458  123.50      0\n",
              "4   2.0 -1.158233  0.877737  1.548718  ...  0.219422  0.215153   69.99      0\n",
              "\n",
              "[5 rows x 31 columns]"
            ]
          },
          "metadata": {
            "tags": []
          },
          "execution_count": 3
        }
      ]
    },
    {
      "cell_type": "code",
      "metadata": {
        "id": "inE2Iugq6qq4"
      },
      "source": [
        "data = data.drop(columns = ['Time'])"
      ],
      "execution_count": 4,
      "outputs": []
    },
    {
      "cell_type": "code",
      "metadata": {
        "colab": {
          "base_uri": "https://localhost:8080/"
        },
        "id": "eye4uucd62fG",
        "outputId": "b100e787-f921-4032-b9b0-1c4259717520"
      },
      "source": [
        "data.shape   # (284807, 30)"
      ],
      "execution_count": 5,
      "outputs": [
        {
          "output_type": "execute_result",
          "data": {
            "text/plain": [
              "(284807, 30)"
            ]
          },
          "metadata": {
            "tags": []
          },
          "execution_count": 5
        }
      ]
    },
    {
      "cell_type": "code",
      "metadata": {
        "id": "40xnwbjU65Xf"
      },
      "source": [
        "X = data.iloc[:,:29]\r\n",
        "y = data.iloc[:,29]"
      ],
      "execution_count": 7,
      "outputs": []
    },
    {
      "cell_type": "code",
      "metadata": {
        "colab": {
          "base_uri": "https://localhost:8080/"
        },
        "id": "OruapU-A7FP2",
        "outputId": "b9f8d3b4-9eb2-495a-d22c-e2b459ca2f42"
      },
      "source": [
        "X.shape"
      ],
      "execution_count": 8,
      "outputs": [
        {
          "output_type": "execute_result",
          "data": {
            "text/plain": [
              "(284807, 29)"
            ]
          },
          "metadata": {
            "tags": []
          },
          "execution_count": 8
        }
      ]
    },
    {
      "cell_type": "code",
      "metadata": {
        "id": "rWYDa_Ls7PVK"
      },
      "source": [
        "X_train, X_test, y_train,y_test = train_test_split(X,y, test_size = 0.3)"
      ],
      "execution_count": 9,
      "outputs": []
    },
    {
      "cell_type": "code",
      "metadata": {
        "colab": {
          "base_uri": "https://localhost:8080/"
        },
        "id": "w-mEqwhh8f_r",
        "outputId": "303ca13e-f3d1-4775-a757-6d07256584b1"
      },
      "source": [
        "X_train.shape, y_train.shape"
      ],
      "execution_count": 10,
      "outputs": [
        {
          "output_type": "execute_result",
          "data": {
            "text/plain": [
              "((199364, 29), (199364,))"
            ]
          },
          "metadata": {
            "tags": []
          },
          "execution_count": 10
        }
      ]
    },
    {
      "cell_type": "code",
      "metadata": {
        "id": "V4TOJJMP8mwa"
      },
      "source": [
        "model = tf.keras.models.Sequential()\r\n",
        "model.add(tf.keras.layers.Flatten(input_shape = (29,), name = \"flatten\"))\r\n",
        "model.add(tf.keras.layers.Dense(32, activation = 'sigmoid', name = \"dense1\"))\r\n",
        "model.add(tf.keras.layers.Dense(64, activation = 'tanh'))\r\n",
        "model.add(tf.keras.layers.Dropout(0.5))\r\n",
        "model.add(tf.keras.layers.Dense(1,activation = 'sigmoid', name = 'output'))"
      ],
      "execution_count": 38,
      "outputs": []
    },
    {
      "cell_type": "code",
      "metadata": {
        "id": "BydDFgPy9GMl"
      },
      "source": [
        "METRICS = [\r\n",
        "      keras.metrics.TruePositives(name='tp'),\r\n",
        "      keras.metrics.FalsePositives(name='fp'),\r\n",
        "      keras.metrics.TrueNegatives(name='tn'),\r\n",
        "      keras.metrics.FalseNegatives(name='fn'), \r\n",
        "      keras.metrics.BinaryAccuracy(name='accuracy'),\r\n",
        "      keras.metrics.Precision(name='precision'),\r\n",
        "      keras.metrics.Recall(name='recall'),\r\n",
        "      keras.metrics.AUC(name='auc'),\r\n",
        "]\r\n",
        "\r\n",
        "\r\n",
        "\r\n",
        "model.compile(loss = 'binary_crossentropy', metrics = METRICS)\r\n"
      ],
      "execution_count": 41,
      "outputs": []
    },
    {
      "cell_type": "code",
      "metadata": {
        "colab": {
          "base_uri": "https://localhost:8080/"
        },
        "id": "CqhsDxk4B5CU",
        "outputId": "109a8bfe-0583-49a3-b3af-76e8c60adb38"
      },
      "source": [
        "model.fit(X_train,y_train, epochs = 10, verbose =1)"
      ],
      "execution_count": 42,
      "outputs": [
        {
          "output_type": "stream",
          "text": [
            "Epoch 1/10\n",
            "6231/6231 [==============================] - 14s 2ms/step - loss: 0.0184 - tp: 51.0016 - fp: 48.0862 - tn: 99509.3954 - fn: 119.5027 - accuracy: 0.9970 - precision: 0.3731 - recall: 0.2104 - auc: 0.6494\n",
            "Epoch 2/10\n",
            "6231/6231 [==============================] - 11s 2ms/step - loss: 0.0082 - tp: 115.9799 - fp: 22.5213 - tn: 99541.4907 - fn: 47.9939 - accuracy: 0.9992 - precision: 0.8206 - recall: 0.6816 - auc: 0.8867\n",
            "Epoch 3/10\n",
            "6231/6231 [==============================] - 11s 2ms/step - loss: 0.0089 - tp: 124.1391 - fp: 27.2596 - tn: 99523.4344 - fn: 53.1528 - accuracy: 0.9992 - precision: 0.8126 - recall: 0.7222 - auc: 0.8694\n",
            "Epoch 4/10\n",
            "6231/6231 [==============================] - 11s 2ms/step - loss: 0.0085 - tp: 116.3044 - fp: 19.0323 - tn: 99543.7359 - fn: 48.9134 - accuracy: 0.9993 - precision: 0.8544 - recall: 0.6986 - auc: 0.8545\n",
            "Epoch 5/10\n",
            "6231/6231 [==============================] - 11s 2ms/step - loss: 0.0086 - tp: 103.0626 - fp: 19.9812 - tn: 99544.1208 - fn: 60.8212 - accuracy: 0.9992 - precision: 0.8342 - recall: 0.6201 - auc: 0.8408\n",
            "Epoch 6/10\n",
            "6231/6231 [==============================] - 12s 2ms/step - loss: 0.0084 - tp: 125.8041 - fp: 18.5074 - tn: 99532.5014 - fn: 51.1730 - accuracy: 0.9993 - precision: 0.8732 - recall: 0.7189 - auc: 0.8835\n",
            "Epoch 7/10\n",
            "6231/6231 [==============================] - 11s 2ms/step - loss: 0.0095 - tp: 110.2962 - fp: 21.0000 - tn: 99539.4382 - fn: 57.2514 - accuracy: 0.9992 - precision: 0.8308 - recall: 0.6661 - auc: 0.8552\n",
            "Epoch 8/10\n",
            "6231/6231 [==============================] - 11s 2ms/step - loss: 0.0101 - tp: 113.8002 - fp: 22.9886 - tn: 99534.8240 - fn: 56.3731 - accuracy: 0.9992 - precision: 0.8156 - recall: 0.6805 - auc: 0.8519\n",
            "Epoch 9/10\n",
            "6231/6231 [==============================] - 11s 2ms/step - loss: 0.0105 - tp: 114.5536 - fp: 21.3561 - tn: 99529.0006 - fn: 63.0756 - accuracy: 0.9991 - precision: 0.8348 - recall: 0.6324 - auc: 0.8314\n",
            "Epoch 10/10\n",
            "6231/6231 [==============================] - 12s 2ms/step - loss: 0.0097 - tp: 108.0939 - fp: 14.8044 - tn: 99542.8134 - fn: 62.2742 - accuracy: 0.9992 - precision: 0.8900 - recall: 0.6389 - auc: 0.8498\n"
          ],
          "name": "stdout"
        },
        {
          "output_type": "execute_result",
          "data": {
            "text/plain": [
              "<tensorflow.python.keras.callbacks.History at 0x7f80f8910240>"
            ]
          },
          "metadata": {
            "tags": []
          },
          "execution_count": 42
        }
      ]
    },
    {
      "cell_type": "code",
      "metadata": {
        "colab": {
          "base_uri": "https://localhost:8080/"
        },
        "id": "DyVMVuayF0mm",
        "outputId": "5d935d4f-6986-466f-b940-72eaf51331b5"
      },
      "source": [
        "model.fit(X_train,y_train, epochs = 10, verbose =1, validation_data = (X_test,y_test))"
      ],
      "execution_count": 44,
      "outputs": [
        {
          "output_type": "stream",
          "text": [
            "Epoch 1/10\n",
            "6231/6231 [==============================] - 16s 3ms/step - loss: 0.0092 - tp: 222.0000 - fp: 38.0000 - tn: 198988.0000 - fn: 116.0000 - accuracy: 0.9992 - precision: 0.8538 - recall: 0.6568 - auc: 0.8608 - val_loss: 0.0097 - val_tp: 98.0000 - val_fp: 21.0000 - val_tn: 85268.0000 - val_fn: 56.0000 - val_accuracy: 0.9991 - val_precision: 0.8235 - val_recall: 0.6364 - val_auc: 0.8635\n",
            "Epoch 2/10\n",
            "6231/6231 [==============================] - 14s 2ms/step - loss: 0.0097 - tp: 222.0000 - fp: 39.0000 - tn: 198987.0000 - fn: 116.0000 - accuracy: 0.9992 - precision: 0.8506 - recall: 0.6568 - auc: 0.8505 - val_loss: 0.0096 - val_tp: 104.0000 - val_fp: 21.0000 - val_tn: 85268.0000 - val_fn: 50.0000 - val_accuracy: 0.9992 - val_precision: 0.8320 - val_recall: 0.6753 - val_auc: 0.8635\n",
            "Epoch 3/10\n",
            "6231/6231 [==============================] - 15s 2ms/step - loss: 0.0108 - tp: 211.0000 - fp: 35.0000 - tn: 198991.0000 - fn: 127.0000 - accuracy: 0.9992 - precision: 0.8577 - recall: 0.6243 - auc: 0.8312 - val_loss: 0.0125 - val_tp: 97.0000 - val_fp: 23.0000 - val_tn: 85266.0000 - val_fn: 57.0000 - val_accuracy: 0.9991 - val_precision: 0.8083 - val_recall: 0.6299 - val_auc: 0.8375\n",
            "Epoch 4/10\n",
            "6231/6231 [==============================] - 15s 2ms/step - loss: 0.0122 - tp: 194.0000 - fp: 37.0000 - tn: 198989.0000 - fn: 144.0000 - accuracy: 0.9991 - precision: 0.8398 - recall: 0.5740 - auc: 0.8090 - val_loss: 0.0136 - val_tp: 82.0000 - val_fp: 21.0000 - val_tn: 85268.0000 - val_fn: 72.0000 - val_accuracy: 0.9989 - val_precision: 0.7961 - val_recall: 0.5325 - val_auc: 0.7823\n",
            "Epoch 5/10\n",
            "6231/6231 [==============================] - 15s 2ms/step - loss: 0.0125 - tp: 178.0000 - fp: 37.0000 - tn: 198989.0000 - fn: 160.0000 - accuracy: 0.9990 - precision: 0.8279 - recall: 0.5266 - auc: 0.7824 - val_loss: 0.0121 - val_tp: 84.0000 - val_fp: 21.0000 - val_tn: 85268.0000 - val_fn: 70.0000 - val_accuracy: 0.9989 - val_precision: 0.8000 - val_recall: 0.5455 - val_auc: 0.7986\n",
            "Epoch 6/10\n",
            "6231/6231 [==============================] - 15s 2ms/step - loss: 0.0132 - tp: 174.0000 - fp: 36.0000 - tn: 198990.0000 - fn: 164.0000 - accuracy: 0.9990 - precision: 0.8286 - recall: 0.5148 - auc: 0.7691 - val_loss: 0.0179 - val_tp: 75.0000 - val_fp: 10.0000 - val_tn: 85279.0000 - val_fn: 79.0000 - val_accuracy: 0.9990 - val_precision: 0.8824 - val_recall: 0.4870 - val_auc: 0.7467\n",
            "Epoch 7/10\n",
            "6231/6231 [==============================] - 14s 2ms/step - loss: 0.0141 - tp: 178.0000 - fp: 35.0000 - tn: 198991.0000 - fn: 160.0000 - accuracy: 0.9990 - precision: 0.8357 - recall: 0.5266 - auc: 0.7913 - val_loss: 0.0108 - val_tp: 94.0000 - val_fp: 19.0000 - val_tn: 85270.0000 - val_fn: 60.0000 - val_accuracy: 0.9991 - val_precision: 0.8319 - val_recall: 0.6104 - val_auc: 0.8408\n",
            "Epoch 8/10\n",
            "6231/6231 [==============================] - 15s 2ms/step - loss: 0.0129 - tp: 204.0000 - fp: 45.0000 - tn: 198981.0000 - fn: 134.0000 - accuracy: 0.9991 - precision: 0.8193 - recall: 0.6036 - auc: 0.8208 - val_loss: 0.0103 - val_tp: 95.0000 - val_fp: 21.0000 - val_tn: 85268.0000 - val_fn: 59.0000 - val_accuracy: 0.9991 - val_precision: 0.8190 - val_recall: 0.6169 - val_auc: 0.8311\n",
            "Epoch 9/10\n",
            "6231/6231 [==============================] - 15s 2ms/step - loss: 0.0130 - tp: 195.0000 - fp: 41.0000 - tn: 198985.0000 - fn: 143.0000 - accuracy: 0.9991 - precision: 0.8263 - recall: 0.5769 - auc: 0.8105 - val_loss: 0.0138 - val_tp: 90.0000 - val_fp: 22.0000 - val_tn: 85267.0000 - val_fn: 64.0000 - val_accuracy: 0.9990 - val_precision: 0.8036 - val_recall: 0.5844 - val_auc: 0.8245\n",
            "Epoch 10/10\n",
            "6231/6231 [==============================] - 15s 2ms/step - loss: 0.0137 - tp: 193.0000 - fp: 44.0000 - tn: 198982.0000 - fn: 145.0000 - accuracy: 0.9991 - precision: 0.8143 - recall: 0.5710 - auc: 0.8149 - val_loss: 0.0110 - val_tp: 105.0000 - val_fp: 24.0000 - val_tn: 85265.0000 - val_fn: 49.0000 - val_accuracy: 0.9991 - val_precision: 0.8140 - val_recall: 0.6818 - val_auc: 0.8732\n"
          ],
          "name": "stdout"
        },
        {
          "output_type": "execute_result",
          "data": {
            "text/plain": [
              "<tensorflow.python.keras.callbacks.History at 0x7f80f8aaec88>"
            ]
          },
          "metadata": {
            "tags": []
          },
          "execution_count": 44
        }
      ]
    },
    {
      "cell_type": "code",
      "metadata": {
        "colab": {
          "base_uri": "https://localhost:8080/"
        },
        "id": "3llYfv_vCEsH",
        "outputId": "857bbc52-a1eb-48b0-da19-5d9e228ff7c2"
      },
      "source": [
        "np.sum(model.predict(X_test) > 0.5)"
      ],
      "execution_count": 47,
      "outputs": [
        {
          "output_type": "execute_result",
          "data": {
            "text/plain": [
              "129"
            ]
          },
          "metadata": {
            "tags": []
          },
          "execution_count": 47
        }
      ]
    },
    {
      "cell_type": "code",
      "metadata": {
        "id": "Q-6wUNFmGol_"
      },
      "source": [
        ""
      ],
      "execution_count": null,
      "outputs": []
    }
  ]
}